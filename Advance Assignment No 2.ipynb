{
 "cells": [
  {
   "cell_type": "markdown",
   "id": "2d91edd0",
   "metadata": {},
   "source": [
    ">__Q1. What is the relationship between classes and modules?__"
   ]
  },
  {
   "cell_type": "markdown",
   "id": "9a0871e4",
   "metadata": {},
   "source": [
    "Ans.  A class can have its own instance, but a module cannot be instantiated, But while using modules, it is simply a code containing variables, functions, and classes. Modules are files present inside a package, whereas a class is used to encapsulate data and functions together inside the same unit."
   ]
  },
  {
   "cell_type": "markdown",
   "id": "db3b694c",
   "metadata": {},
   "source": [
    ">__Q2. How do you make instances and classes?__"
   ]
  },
  {
   "cell_type": "markdown",
   "id": "5d8abf82",
   "metadata": {},
   "source": [
    "Ans.  To create instances of a class, you call the class using class name and pass in whatever arguments its __init__ method accepts."
   ]
  },
  {
   "cell_type": "markdown",
   "id": "44ce6e94",
   "metadata": {},
   "source": [
    ">__Q3. Where and how should be class attributes created?__"
   ]
  },
  {
   "cell_type": "markdown",
   "id": "c06e4d32",
   "metadata": {},
   "source": [
    "Ans.  Inside a class, you should qualify all references to class attributes with the class name; for example, MyClass. attr1 . All references to instance attributes should be qualified with the self variable; for example, self."
   ]
  },
  {
   "cell_type": "markdown",
   "id": "46b362cf",
   "metadata": {},
   "source": [
    ">__Q4. Where and how are instance attributes created?__"
   ]
  },
  {
   "cell_type": "markdown",
   "id": "40217974",
   "metadata": {},
   "source": [
    "Ans.  Instance attributes are defined in the constructor. Defined directly inside a class. Defined inside a constructor using the self parameter. Shared across all objects."
   ]
  },
  {
   "cell_type": "markdown",
   "id": "3022300d",
   "metadata": {},
   "source": [
    ">__Q5. What does the term \"self\" in a Python class mean?__"
   ]
  },
  {
   "cell_type": "markdown",
   "id": "aa744854",
   "metadata": {},
   "source": [
    "Ans.  The self parameter is a reference to the current instance of the class, and is used to access variables that belongs to the class."
   ]
  },
  {
   "cell_type": "markdown",
   "id": "5193f22c",
   "metadata": {},
   "source": [
    ">__Q6. How does a Python class handle operator overloading?__"
   ]
  },
  {
   "cell_type": "markdown",
   "id": "866d5f18",
   "metadata": {},
   "source": [
    "ans.  To perform operator overloading, Python provides some special function or magic function that is automatically invoked when it is associated with that particular operator. For example, when we use + operator, the magic method __add__ is automatically invoked in which the operation for + operator is defined."
   ]
  },
  {
   "cell_type": "markdown",
   "id": "2eb9dd30",
   "metadata": {},
   "source": [
    ">__Q7. When do you consider allowing operator overloading of your classes?__"
   ]
  },
  {
   "cell_type": "markdown",
   "id": "c4837e8c",
   "metadata": {},
   "source": [
    "Ans.  Consider that we have two objects which are a physical representation of a class (user-defined data type) and we have to add two objects with binary '+' operator it throws an error, because compiler don't know how to add two objects. So we define a method for an operator and that process is called operator overloading."
   ]
  },
  {
   "cell_type": "markdown",
   "id": "f6e86da7",
   "metadata": {},
   "source": [
    ">__Q8. What is the most popular form of operator overloading?__"
   ]
  },
  {
   "cell_type": "markdown",
   "id": "fc2689f1",
   "metadata": {},
   "source": [
    "Ans.  A very popular and convenient example is the Addition (+) operator. Just think how the '+' operator operates on two numbers and the same operator operates on two strings. It performs “Addition” on numbers whereas it performs “Concatenation” on strings.\n"
   ]
  },
  {
   "cell_type": "markdown",
   "id": "90ce54f5",
   "metadata": {},
   "source": [
    ">__Q9. What are the two most important concepts to grasp in order to comprehend Python OOP code?__"
   ]
  },
  {
   "cell_type": "markdown",
   "id": "7b13cb59",
   "metadata": {},
   "source": [
    "Ans.  In order to develop robust and well-designed software products with Python, it is essential to obtain a comprehensive understanding of OOP. In this article, we will elaborate on two key concepts of OOP which are inheritance and polymorphism."
   ]
  }
 ],
 "metadata": {
  "kernelspec": {
   "display_name": "Python 3",
   "language": "python",
   "name": "python3"
  },
  "language_info": {
   "codemirror_mode": {
    "name": "ipython",
    "version": 3
   },
   "file_extension": ".py",
   "mimetype": "text/x-python",
   "name": "python",
   "nbconvert_exporter": "python",
   "pygments_lexer": "ipython3",
   "version": "3.8.8"
  }
 },
 "nbformat": 4,
 "nbformat_minor": 5
}
